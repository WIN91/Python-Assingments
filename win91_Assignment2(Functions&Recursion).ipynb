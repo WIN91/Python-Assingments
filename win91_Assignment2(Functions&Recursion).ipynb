{
 "cells": [
  {
   "cell_type": "markdown",
   "metadata": {},
   "source": [
    "                  NAME: WINNIE KADZO YAA\n",
    "             ASSIGNMENT 2; FUNCTIONS & RECURSIONS"
   ]
  },
  {
   "cell_type": "markdown",
   "metadata": {},
   "source": [
    "1.Write a python script that asks the user for the values of x and y and uses these inputs to\n",
    "compute the numerical value of the expression     "
   ]
  },
  {
   "cell_type": "code",
   "execution_count": 23,
   "metadata": {},
   "outputs": [
    {
     "name": "stdout",
     "output_type": "stream",
     "text": [
      "enter a value of x :5\n",
      "enter a value of y :9\n",
      "6822.359113231522\n"
     ]
    }
   ],
   "source": [
    "import  math\n",
    "x=float(input('enter a value of x :'))\n",
    "y=float(input('enter a value of y :'))\n",
    "z=math.sqrt(x**(2+y))/((1/x)+2*math.sin(y))\n",
    "print(z)"
   ]
  },
  {
   "cell_type": "markdown",
   "metadata": {},
   "source": [
    "2.Write a function that given two integers b and n (n is positive), calculates $b^n$ without using python’s power operator.Name this function ownpowerfn.py.\n",
    "PS: What if we do not specify that n has to be positive?"
   ]
  },
  {
   "cell_type": "code",
   "execution_count": 25,
   "metadata": {},
   "outputs": [],
   "source": [
    "def ownpowerful(b,n):\n",
    "    while n > 0:\n",
    "        p=b**n\n",
    "        return p"
   ]
  },
  {
   "cell_type": "markdown",
   "metadata": {},
   "source": [
    "3.Write functions that do the following:\n",
    "\n",
    "a) Takes two arguments, and computes their arithmetic and geometric means. Name\n",
    "these functions arithmetic_mean and geometric_mean respectively."
   ]
  },
  {
   "cell_type": "code",
   "execution_count": 11,
   "metadata": {},
   "outputs": [],
   "source": [
    "import math\n",
    "def arithmetic_mean(x,y):\n",
    "    arithmetic_mean=((x+y)/2)\n",
    "    print(arithmetic_mean)"
   ]
  },
  {
   "cell_type": "code",
   "execution_count": 12,
   "metadata": {},
   "outputs": [
    {
     "name": "stdout",
     "output_type": "stream",
     "text": [
      "20.0\n"
     ]
    }
   ],
   "source": [
    "arithmetic_mean(15,25)"
   ]
  },
  {
   "cell_type": "code",
   "execution_count": 13,
   "metadata": {},
   "outputs": [],
   "source": [
    "import math\n",
    "def geometric_mean(x,y):\n",
    "    geometric_mean= math.sqrt(x*y)\n",
    "    \n",
    "    print(geometric_mean)"
   ]
  },
  {
   "cell_type": "code",
   "execution_count": 14,
   "metadata": {},
   "outputs": [
    {
     "name": "stdout",
     "output_type": "stream",
     "text": [
      "19.364916731037084\n"
     ]
    }
   ],
   "source": [
    "geometric_mean(15,25)"
   ]
  },
  {
   "cell_type": "markdown",
   "metadata": {},
   "source": [
    "b)Converts degree Celsius to Fahrenheit and vice versa. Name these two functions\n",
    "celcius_to_fahrenheit and fahrenheit_to_celcius respectively."
   ]
  },
  {
   "cell_type": "code",
   "execution_count": 15,
   "metadata": {},
   "outputs": [],
   "source": [
    "def celcius_to_fahrenheit(x) :\n",
    "    celcius_to_fahrenheit= (x*1.8)+32\n",
    "    print(celcius_to_fahrenheit)   "
   ]
  },
  {
   "cell_type": "code",
   "execution_count": 16,
   "metadata": {},
   "outputs": [
    {
     "name": "stdout",
     "output_type": "stream",
     "text": [
      "50.0\n"
     ]
    }
   ],
   "source": [
    "celcius_to_fahrenheit(10)"
   ]
  },
  {
   "cell_type": "code",
   "execution_count": 17,
   "metadata": {},
   "outputs": [],
   "source": [
    "def fahrenheit_to_celcius(n) :\n",
    "    fahrenheit_to_celcius=(n-32)/1.8\n",
    "    print(fahrenheit_to_celcius)   "
   ]
  },
  {
   "cell_type": "code",
   "execution_count": 18,
   "metadata": {
    "scrolled": true
   },
   "outputs": [
    {
     "name": "stdout",
     "output_type": "stream",
     "text": [
      "37.77777777777778\n"
     ]
    }
   ],
   "source": [
    "fahrenheit_to_celcius(100)"
   ]
  },
  {
   "cell_type": "markdown",
   "metadata": {},
   "source": [
    "c)Converts angle in degrees to radians and vice versa. Name these two functions\n",
    "degrees_to_radians and radians_to_degrees respectively."
   ]
  },
  {
   "cell_type": "code",
   "execution_count": 22,
   "metadata": {},
   "outputs": [],
   "source": [
    "from math import pi \n",
    "def degrees_to_radians(k):\n",
    "    degrees_to_radians=(k*pi)/180\n",
    "    print(degrees_to_radians)"
   ]
  },
  {
   "cell_type": "code",
   "execution_count": 23,
   "metadata": {},
   "outputs": [
    {
     "name": "stdout",
     "output_type": "stream",
     "text": [
      "0.5235987755982988\n"
     ]
    }
   ],
   "source": [
    "degrees_to_radians(30)"
   ]
  },
  {
   "cell_type": "code",
   "execution_count": 24,
   "metadata": {},
   "outputs": [],
   "source": [
    "from math import pi \n",
    "def radians_to_degree(m):\n",
    "    radians_to_degree=(m*180)/pi\n",
    "    print(radians_to_degree)"
   ]
  },
  {
   "cell_type": "code",
   "execution_count": 25,
   "metadata": {},
   "outputs": [
    {
     "name": "stdout",
     "output_type": "stream",
     "text": [
      "1718.8733853924698\n"
     ]
    }
   ],
   "source": [
    "radians_to_degree(30)"
   ]
  },
  {
   "cell_type": "markdown",
   "metadata": {},
   "source": [
    "4.Write functions that do the following:\n",
    "    \n",
    "a) Given two numbers, compute their average and geometrical mean and prints them.\n",
    "Now write a program that performs this process 10 times, taking as input the means\n",
    "computed in the previous step. Name this function avggeom."
   ]
  },
  {
   "cell_type": "code",
   "execution_count": 41,
   "metadata": {},
   "outputs": [
    {
     "name": "stdout",
     "output_type": "stream",
     "text": [
      "(4.48606797749979, 2.995352392457285)\n"
     ]
    }
   ],
   "source": [
    "from math import sqrt\n",
    "x=5\n",
    "y=4\n",
    "averg=(x+y)/2\n",
    "geom=(sqrt(x*y))\n",
    "print(avggeom)"
   ]
  },
  {
   "cell_type": "markdown",
   "metadata": {},
   "source": [
    "b)Write a function that computes the distance between two points in the plane. Use\n",
    "it in another program that computes the perimeter and the area of a triangle, given\n",
    "three points in the plane. Name this function distancefn."
   ]
  },
  {
   "cell_type": "code",
   "execution_count": null,
   "metadata": {},
   "outputs": [],
   "source": []
  },
  {
   "cell_type": "markdown",
   "metadata": {},
   "source": [
    "5.Write a program that offers three options to the user:\n",
    "    \n",
    "1.Evaluation of actorial\n",
    "\n",
    "2.Evaluation of a second degree equation\n",
    "\n",
    "3.Exit\n",
    "\n",
    "The user selects one of the options and then the program requests the data needed and\n",
    "calls the corresponding function to produce a result. The program then repeats the process\n",
    "until the user says he wants to exit. Name this function fact2nddeg."
   ]
  },
  {
   "cell_type": "code",
   "execution_count": null,
   "metadata": {},
   "outputs": [],
   "source": []
  },
  {
   "cell_type": "markdown",
   "metadata": {},
   "source": [
    "6.For a fixed real number x and a natural number n, we can define recursively $x^n$ using the relations:\n",
    "$x^0$ = 1 and $x^n+1$ = $x.x^n$.\n",
    "\n",
    "Write a function power(x,n) that implements the above recursion."
   ]
  },
  {
   "cell_type": "code",
   "execution_count": 6,
   "metadata": {},
   "outputs": [],
   "source": [
    "def power(x,n):\n",
    "    return power(x+1*n) "
   ]
  },
  {
   "cell_type": "markdown",
   "metadata": {},
   "source": [
    "7.Write code that implements the Fibonacci sequence. Test your program at 100."
   ]
  },
  {
   "cell_type": "code",
   "execution_count": 22,
   "metadata": {},
   "outputs": [
    {
     "name": "stdout",
     "output_type": "stream",
     "text": [
      "enter the first number0\n",
      "enter the second number1\n",
      "1\n",
      "1\n",
      "2\n",
      "3\n",
      "5\n",
      "8\n",
      "13\n",
      "21\n",
      "34\n",
      "55\n",
      "89\n",
      "144\n",
      "233\n",
      "377\n",
      "610\n",
      "987\n",
      "1597\n",
      "2584\n",
      "4181\n",
      "6765\n",
      "10946\n",
      "17711\n",
      "28657\n",
      "46368\n",
      "75025\n",
      "121393\n",
      "196418\n",
      "317811\n",
      "514229\n",
      "832040\n",
      "1346269\n",
      "2178309\n",
      "3524578\n",
      "5702887\n",
      "9227465\n",
      "14930352\n",
      "24157817\n",
      "39088169\n",
      "63245986\n",
      "102334155\n",
      "165580141\n",
      "267914296\n",
      "433494437\n",
      "701408733\n",
      "1134903170\n",
      "1836311903\n",
      "2971215073\n",
      "4807526976\n",
      "7778742049\n",
      "12586269025\n",
      "20365011074\n",
      "32951280099\n",
      "53316291173\n",
      "86267571272\n",
      "139583862445\n",
      "225851433717\n",
      "365435296162\n",
      "591286729879\n",
      "956722026041\n",
      "1548008755920\n",
      "2504730781961\n",
      "4052739537881\n",
      "6557470319842\n",
      "10610209857723\n",
      "17167680177565\n",
      "27777890035288\n",
      "44945570212853\n",
      "72723460248141\n",
      "117669030460994\n",
      "190392490709135\n",
      "308061521170129\n",
      "498454011879264\n",
      "806515533049393\n",
      "1304969544928657\n",
      "2111485077978050\n",
      "3416454622906707\n",
      "5527939700884757\n",
      "8944394323791464\n",
      "14472334024676221\n",
      "23416728348467685\n",
      "37889062373143906\n",
      "61305790721611591\n",
      "99194853094755497\n",
      "160500643816367088\n",
      "259695496911122585\n",
      "420196140727489673\n",
      "679891637638612258\n",
      "1100087778366101931\n",
      "1779979416004714189\n",
      "2880067194370816120\n",
      "4660046610375530309\n",
      "7540113804746346429\n",
      "12200160415121876738\n",
      "19740274219868223167\n",
      "31940434634990099905\n",
      "51680708854858323072\n",
      "83621143489848422977\n",
      "135301852344706746049\n",
      "218922995834555169026\n",
      "354224848179261915075\n"
     ]
    }
   ],
   "source": [
    "a=int(input(\"enter the first number\"))\n",
    "b=int(input(\"enter the second number\"))\n",
    "for i in range(0,100):\n",
    "    s=a+b\n",
    "    print(s)\n",
    "    b=a\n",
    "    a=s\n",
    "    "
   ]
  },
  {
   "cell_type": "code",
   "execution_count": null,
   "metadata": {},
   "outputs": [],
   "source": []
  }
 ],
 "metadata": {
  "kernelspec": {
   "display_name": "Python 3",
   "language": "python",
   "name": "python3"
  },
  "language_info": {
   "codemirror_mode": {
    "name": "ipython",
    "version": 3
   },
   "file_extension": ".py",
   "mimetype": "text/x-python",
   "name": "python",
   "nbconvert_exporter": "python",
   "pygments_lexer": "ipython3",
   "version": "3.6.9"
  }
 },
 "nbformat": 4,
 "nbformat_minor": 2
}
