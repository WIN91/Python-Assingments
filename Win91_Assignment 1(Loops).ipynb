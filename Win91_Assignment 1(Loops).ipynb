{
 "cells": [
  {
   "cell_type": "markdown",
   "metadata": {},
   "source": [
    "           NAME: WINNIE KADZO YAA\n",
    "          CONDITIONAL AND FOR LOOPS ASSINGMENT"
   ]
  },
  {
   "cell_type": "markdown",
   "metadata": {},
   "source": [
    "1(i).Compute the following expressions for a natural number n chosen by the user:"
   ]
  },
  {
   "cell_type": "code",
   "execution_count": 12,
   "metadata": {},
   "outputs": [
    {
     "name": "stdout",
     "output_type": "stream",
     "text": [
      "Enter a number :6\n",
      "18\n"
     ]
    }
   ],
   "source": [
    "n=int(input(\"Enter a number :\"))\n",
    "sums=0\n",
    "for i in range(0,n):\n",
    "    if i%2==1:\n",
    "        sums=sums+(i+3)\n",
    "print(sums)"
   ]
  },
  {
   "cell_type": "markdown",
   "metadata": {},
   "source": [
    "(ii)product"
   ]
  },
  {
   "cell_type": "code",
   "execution_count": 3,
   "metadata": {},
   "outputs": [
    {
     "name": "stdout",
     "output_type": "stream",
     "text": [
      "Enter a number :8\n",
      "945\n"
     ]
    }
   ],
   "source": [
    "n=int(input(\"Enter a number :\"))\n",
    "prod=1\n",
    "for i in range(0, n):\n",
    "    if i%2==0:\n",
    "        prod=prod*(i+3)\n",
    "print(prod)"
   ]
  },
  {
   "cell_type": "markdown",
   "metadata": {},
   "source": [
    "2.Write a program that reads the number of the day of the week (from 0 to 6).If it is a\n",
    "working day, then the program will write the name of the corresponding day. Otherwise,\n",
    "it will write the word \"Weekend\"."
   ]
  },
  {
   "cell_type": "code",
   "execution_count": 31,
   "metadata": {},
   "outputs": [
    {
     "name": "stdout",
     "output_type": "stream",
     "text": [
      "Enter days of the week:7\n",
      "Weekend\n"
     ]
    }
   ],
   "source": [
    "n = int(input('Enter days of the week:'))\n",
    "if n <= 6 and n>0:\n",
    "    if n == 0:\n",
    "        print('Monday')\n",
    "    if n == 1:\n",
    "        print('Tuesday')\n",
    "    if n == 2:\n",
    "        print('Wednesday')\n",
    "    if n == 3:\n",
    "        print('Thursday')\n",
    "    if n == 4:\n",
    "        print('Friday')\n",
    "else:\n",
    "        print('Weekend')"
   ]
  },
  {
   "cell_type": "markdown",
   "metadata": {},
   "source": [
    "3.Make a program that, given a month number (from 0 to 11), indicates how many days it has (28, 30 or 31), ignoring the leap years"
   ]
  },
  {
   "cell_type": "code",
   "execution_count": 37,
   "metadata": {},
   "outputs": [
    {
     "name": "stdout",
     "output_type": "stream",
     "text": [
      "January have 31\n",
      "February have 28\n",
      "March have 30\n"
     ]
    }
   ],
   "source": [
    "l=[\"January\",\"February\",\"March\",\"April\",\"May\",\"June\",\"July\",\"June\",\"July\",\"August\",\"September\",\"October\",\"November\",\"December\"]\n",
    "for i in range(0,11):\n",
    "    if i==0:\n",
    "        print(l[0],\"have 31\")\n",
    "    elif(i==1):\n",
    "        print(l[1],\"have 28\")\n",
    "    elif(i==2):\n",
    "        print(l[2],\"have 30\")\n",
    "    \n",
    "        "
   ]
  },
  {
   "cell_type": "markdown",
   "metadata": {},
   "source": [
    "4.Write two versions of python code that displays your name 3 times. One version with a\n",
    "\"for loop\" and another version with a \"while loop\"."
   ]
  },
  {
   "cell_type": "code",
   "execution_count": null,
   "metadata": {},
   "outputs": [],
   "source": [
    "#using for loop\n",
    "for i in range(3):\n",
    "    print(\"Winnie\")\n"
   ]
  },
  {
   "cell_type": "code",
   "execution_count": null,
   "metadata": {},
   "outputs": [],
   "source": [
    "#using while loop\n",
    "i=0;\n",
    "while(i<3):\n",
    "    print(\"Winnie\")\n",
    "    i=i+1"
   ]
  },
  {
   "cell_type": "markdown",
   "metadata": {},
   "source": [
    "5.Given two numbers $a_0$ and $a_1$, the Fibonacci sequence they generate is constructed from\n",
    "the recursion formula $a_{n+1}= a_n + a_{n-1}$. Calculate the first 15 terms of a Fibonacci\n",
    "sequence, asking the user the initial values"
   ]
  },
  {
   "cell_type": "code",
   "execution_count": 32,
   "metadata": {},
   "outputs": [
    {
     "name": "stdout",
     "output_type": "stream",
     "text": [
      "Enter the first value of a:4\n",
      "Enter the first value of b:6\n",
      "10\n",
      "16\n",
      "26\n",
      "42\n",
      "68\n",
      "110\n",
      "178\n",
      "288\n",
      "466\n",
      "754\n",
      "1220\n",
      "1974\n",
      "3194\n",
      "5168\n",
      "8362\n"
     ]
    }
   ],
   "source": [
    "a0=int(input('Enter the first value of a:'))\n",
    "a1=int(input('Enter the first value of b:'))\n",
    "for i in range(0,15):\n",
    "    s=a1+a0\n",
    "    print(s)\n",
    "    a0=a1\n",
    "    a1=s"
   ]
  },
  {
   "cell_type": "markdown",
   "metadata": {},
   "source": [
    "6.Compute the first 30 terms of the sequence defined by $2x_{n+2} − x_{n+1}  − 6x_{n}  = 0$  sequence,\n",
    "given any two initial values $ x0 $and $x1$"
   ]
  },
  {
   "cell_type": "code",
   "execution_count": 61,
   "metadata": {},
   "outputs": [
    {
     "name": "stdout",
     "output_type": "stream",
     "text": [
      "X( 2 ) est : 3.5\n",
      "X( 3 ) est : 4.75\n",
      "X( 4 ) est : 12.875\n",
      "X( 5 ) est : 20.6875\n",
      "X( 6 ) est : 48.96875\n",
      "X( 7 ) est : 86.546875\n",
      "X( 8 ) est : 190.1796875\n",
      "X( 9 ) est : 354.73046875\n",
      "X( 10 ) est : 747.904296875\n",
      "X( 11 ) est : 1438.1435546875\n",
      "X( 12 ) est : 2962.78466796875\n",
      "X( 13 ) est : 5795.822998046875\n",
      "X( 14 ) est : 11786.265502929688\n",
      "X( 15 ) est : 23280.60174560547\n",
      "X( 16 ) est : 46999.0973815918\n",
      "X( 17 ) est : 93341.3539276123\n",
      "X( 18 ) est : 187667.96910858154\n",
      "X( 19 ) est : 373858.0463371277\n",
      "X( 20 ) est : 749932.9304943085\n",
      "X( 21 ) est : 1496540.6042585373\n",
      "X( 22 ) est : 2998069.093612194\n",
      "X( 23 ) est : 5988656.359581709\n",
      "X( 24 ) est : 11988535.460627437\n",
      "X( 25 ) est : 23960236.809058845\n",
      "X( 26 ) est : 47945724.78641173\n",
      "X( 27 ) est : 95853572.8203824\n",
      "X( 28 ) est : 191763960.7694264\n",
      "X( 29 ) est : 383442698.84586036\n",
      "X( 30 ) est : 767013231.7312095\n"
     ]
    }
   ],
   "source": [
    "x0=1\n",
    "x1=1\n",
    "for n in range(1,30):\n",
    "    x=(x1+(6*x0))/2\n",
    "    x0=x1\n",
    "    x1=x\n",
    "    print(\"X(\",n+1,\")\",\"est :\",x)"
   ]
  },
  {
   "cell_type": "markdown",
   "metadata": {},
   "source": [
    "7.a) Write python code to determine whether or not a year is a leap year. Be sure you\n",
    "know what a leap year is. "
   ]
  },
  {
   "cell_type": "code",
   "execution_count": 18,
   "metadata": {},
   "outputs": [
    {
     "name": "stdout",
     "output_type": "stream",
     "text": [
      "State the year:2000\n",
      "2000 Its a leap year\n"
     ]
    }
   ],
   "source": [
    "#a leap year is any year that when its divided by 4,remainder is zero.\n",
    "year=int(input(\"State the year:\" ))\n",
    "if year%4==0:\n",
    "    print(year,\"Its a leap year\")\n"
   ]
  },
  {
   "cell_type": "markdown",
   "metadata": {},
   "source": [
    "b)Write the code using only logical operators, i.e. no conditional branching."
   ]
  },
  {
   "cell_type": "code",
   "execution_count": 28,
   "metadata": {},
   "outputs": [
    {
     "name": "stdout",
     "output_type": "stream",
     "text": [
      "Enter year: 2000\n"
     ]
    },
    {
     "data": {
      "text/plain": [
       "True"
      ]
     },
     "execution_count": 28,
     "metadata": {},
     "output_type": "execute_result"
    }
   ],
   "source": [
    "year = int(input(\"Enter year: \"))\n",
    "a=(year % 4)\n",
    "a==0\n"
   ]
  },
  {
   "cell_type": "markdown",
   "metadata": {},
   "source": [
    "8.a) Write python code that computes the sum of the square of the first n natural numbers.\n",
    "One version with a \"for loop\" and another version with a \"while loop\"."
   ]
  },
  {
   "cell_type": "code",
   "execution_count": 56,
   "metadata": {},
   "outputs": [
    {
     "name": "stdout",
     "output_type": "stream",
     "text": [
      "enter number: 8\n",
      " the sum of the square of the first n natural numbers:  204\n"
     ]
    }
   ],
   "source": [
    "n=int(input(\"enter number: \"))\n",
    "sum=0\n",
    "for i in range(1,n+1):\n",
    "    sum=sum+(i**2)\n",
    "print(\" the sum of the square of the first n natural numbers: \",sum)"
   ]
  },
  {
   "cell_type": "code",
   "execution_count": null,
   "metadata": {},
   "outputs": [],
   "source": [
    "n=int(input(\"enter number: \"))\n",
    "sum=0\n",
    "while (i<1,i>n+1):\n",
    "    sum=sum+(i**2)\n"
   ]
  },
  {
   "cell_type": "markdown",
   "metadata": {},
   "source": [
    "b)Write python code that prints, for a natural number M, the smallest natural number\n",
    "n such that $ 1^2 + 2^2 +· · ·+n^2 ≥ M.$ One version with a \"for loop\" and another version\n",
    "with a \"while loop\"."
   ]
  },
  {
   "cell_type": "code",
   "execution_count": null,
   "metadata": {},
   "outputs": [],
   "source": [
    "n=int(input(\"enter first number: \"))\n",
    "m=int(input(\"enter second number: \"))\n",
    "s=0\n",
    "for i in range(1,n+1):\n",
    "    s=s+(i**2)\n",
    "    if(s<=m):\n",
    "        a=s\n",
    "print(\" the smallest natural number n is: \",a)"
   ]
  },
  {
   "cell_type": "markdown",
   "metadata": {},
   "source": [
    "9.a) Write python code that prints all the divisors of a given natural number.\n",
    "\n",
    "b) Read an integer number input by the user and calculate its prime factors. This will\n",
    "just be some of its divisors."
   ]
  },
  {
   "cell_type": "code",
   "execution_count": 43,
   "metadata": {},
   "outputs": [
    {
     "name": "stdout",
     "output_type": "stream",
     "text": [
      "Enter a number :8\n",
      "1 is a divisor of 8\n",
      "2 is a divisor of 8\n",
      "4 is a divisor of 8\n",
      "8 is a divisor of 8\n"
     ]
    }
   ],
   "source": [
    "n=int(input(\"Enter a number :\"))\n",
    "if n>0:\n",
    "    for a in range(1,n+1):\n",
    "        if(n%a==0):\n",
    "            print(a,\" \",\"is a divisor of \",n,sep=\"\")"
   ]
  },
  {
   "cell_type": "code",
   "execution_count": 45,
   "metadata": {},
   "outputs": [],
   "source": [
    "def ifactor(n):\n",
    "    t , j = [], 2\n",
    "    while n > 1:\n",
    "        if (n % j) == 0:\n",
    "            t.append(j)\n",
    "            n //= j\n",
    " \n",
    "        else:\n",
    "            j += 1\n",
    "    return t"
   ]
  },
  {
   "cell_type": "code",
   "execution_count": 46,
   "metadata": {},
   "outputs": [
    {
     "name": "stdout",
     "output_type": "stream",
     "text": [
      "[2, 2, 5]\n"
     ]
    }
   ],
   "source": [
    "print(ifactor(20))"
   ]
  },
  {
   "cell_type": "markdown",
   "metadata": {},
   "source": [
    "10.Read an integer number between n 0 and 9 and print its multiplication table up to N\n",
    "where N is another another natural number read by the program."
   ]
  },
  {
   "cell_type": "code",
   "execution_count": 42,
   "metadata": {},
   "outputs": [
    {
     "name": "stdout",
     "output_type": "stream",
     "text": [
      "Enter first number: 5\n",
      "Enter second number: 10\n",
      "5 x 1 = 5\n",
      "5 x 2 = 10\n",
      "5 x 3 = 15\n",
      "5 x 4 = 20\n",
      "5 x 5 = 25\n",
      "5 x 6 = 30\n",
      "5 x 7 = 35\n",
      "5 x 8 = 40\n",
      "5 x 9 = 45\n",
      "5 x 10 = 50\n"
     ]
    }
   ],
   "source": [
    "n=int(input(\"Enter first number: \"))\n",
    "N=int(input(\"Enter second number: \"))\n",
    "if(n>=0 and n<=9):\n",
    "    for a in range(1,N+1):\n",
    "        print(n,\"x\",a,\"=\",n*a)"
   ]
  },
  {
   "cell_type": "markdown",
   "metadata": {},
   "source": [
    "11.Write a program that prints all the numbers between 0 and 40 that are multiples of 3, 7\n",
    "or 11."
   ]
  },
  {
   "cell_type": "code",
   "execution_count": 41,
   "metadata": {},
   "outputs": [
    {
     "name": "stdout",
     "output_type": "stream",
     "text": [
      "0 multiple of 3\n",
      "0 multiple of 7\n",
      "0 multiple of 11\n",
      "3 multiple of 3\n",
      "6 multiple of 3\n",
      "7 multiple of 7\n",
      "9 multiple of 3\n",
      "11 multiple of 11\n",
      "12 multiple of 3\n",
      "14 multiple of 7\n",
      "15 multiple of 3\n",
      "18 multiple of 3\n",
      "21 multiple of 3\n",
      "21 multiple of 7\n",
      "22 multiple of 11\n",
      "24 multiple of 3\n",
      "27 multiple of 3\n",
      "28 multiple of 7\n",
      "30 multiple of 3\n",
      "33 multiple of 3\n",
      "33 multiple of 11\n",
      "35 multiple of 7\n",
      "36 multiple of 3\n",
      "39 multiple of 3\n"
     ]
    }
   ],
   "source": [
    "for b in range(0,40):\n",
    "    if(b%3==0):\n",
    "        print(b,\" \",\"multiple of 3\", sep=\"\")\n",
    "    if(b%7==0):\n",
    "        print(b,\" \",\"multiple of 7\", sep=\"\")\n",
    "    if(b%11==0):\n",
    "        print(b,\" \", \"multiple of 11\", sep=\"\")     "
   ]
  },
  {
   "cell_type": "markdown",
   "metadata": {},
   "source": [
    "12.Write python code that prints the floor of a float x. Recall that the floor of a float x is the\n",
    "largest integer value less than or equal to x, i.e. if $E[x]$ is the floor of x, then it satisfies,\n",
    "$E[x] $= 1 + $E[x - 1]$\n",
    "PS: On Friday, you will be asked to write a recursive version of the above program"
   ]
  },
  {
   "cell_type": "code",
   "execution_count": null,
   "metadata": {},
   "outputs": [],
   "source": []
  },
  {
   "cell_type": "markdown",
   "metadata": {},
   "source": [
    "13.Given a point in the plane by its Cartesian coordinates, determine in which quadrant it is\n",
    "(1st, 2nd, 3rd, 4th), if it lies on an axis, or if it is the origin. Do this for several points in\n",
    "the same execution of the program until the user quits."
   ]
  },
  {
   "cell_type": "code",
   "execution_count": null,
   "metadata": {},
   "outputs": [],
   "source": []
  },
  {
   "cell_type": "markdown",
   "metadata": {},
   "source": [
    "14.Ask for an integer number between 0 and 9, denoted x. Once the user has entered a correct\n",
    "number (that is one in the range [0..10)) the program asks for a second integer number\n",
    "between 0 and 255, denoted max. The program continues asking for the number until it\n",
    "is correct (that it is in the range [0..256)). When this is done, show all multiples of x that\n",
    "are between 0 and max. Then, ask the user whether he/she wants to continue; if in the\n",
    "affirmative, ask for another couple of numbers, otherwise finish."
   ]
  },
  {
   "cell_type": "code",
   "execution_count": null,
   "metadata": {},
   "outputs": [],
   "source": []
  }
 ],
 "metadata": {
  "kernelspec": {
   "display_name": "Python 3",
   "language": "python",
   "name": "python3"
  },
  "language_info": {
   "codemirror_mode": {
    "name": "ipython",
    "version": 3
   },
   "file_extension": ".py",
   "mimetype": "text/x-python",
   "name": "python",
   "nbconvert_exporter": "python",
   "pygments_lexer": "ipython3",
   "version": "3.6.9"
  }
 },
 "nbformat": 4,
 "nbformat_minor": 2
}
